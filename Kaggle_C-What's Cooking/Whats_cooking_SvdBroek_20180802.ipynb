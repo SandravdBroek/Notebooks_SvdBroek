{
 "cells": [
  {
   "cell_type": "markdown",
   "metadata": {},
   "source": [
    "# Kaggle competition: https://www.kaggle.com/c/whats-cooking-kernels-only"
   ]
  },
  {
   "cell_type": "markdown",
   "metadata": {},
   "source": [
    "# Table of contents:\n",
    "[CLean Training data](#Clean-Training-data)\n",
    "\n",
    "[Build FT table](#Build-FT-table)"
   ]
  },
  {
   "cell_type": "code",
   "execution_count": 1,
   "metadata": {},
   "outputs": [],
   "source": [
    "import pandas as pd\n",
    "import numpy as np\n",
    "import seaborn as sb\n",
    "%matplotlib inline\n",
    "import matplotlib.pyplot as plt "
   ]
  },
  {
   "cell_type": "code",
   "execution_count": 2,
   "metadata": {},
   "outputs": [
    {
     "name": "stdout",
     "output_type": "stream",
     "text": [
      "<class 'pandas.core.frame.DataFrame'>\n",
      "RangeIndex: 39774 entries, 0 to 39773\n",
      "Data columns (total 3 columns):\n",
      "cuisine        39774 non-null object\n",
      "id             39774 non-null int64\n",
      "ingredients    39774 non-null object\n",
      "dtypes: int64(1), object(2)\n",
      "memory usage: 932.3+ KB\n"
     ]
    }
   ],
   "source": [
    "df = pd.read_json('data/train.json')\n",
    "df.shape\n",
    "type(df)\n",
    "df.info()"
   ]
  },
  {
   "cell_type": "markdown",
   "metadata": {},
   "source": [
    "## Clean Training data"
   ]
  },
  {
   "cell_type": "code",
   "execution_count": 3,
   "metadata": {},
   "outputs": [
    {
     "data": {
      "text/html": [
       "<div>\n",
       "<style scoped>\n",
       "    .dataframe tbody tr th:only-of-type {\n",
       "        vertical-align: middle;\n",
       "    }\n",
       "\n",
       "    .dataframe tbody tr th {\n",
       "        vertical-align: top;\n",
       "    }\n",
       "\n",
       "    .dataframe thead th {\n",
       "        text-align: right;\n",
       "    }\n",
       "</style>\n",
       "<table border=\"1\" class=\"dataframe\">\n",
       "  <thead>\n",
       "    <tr style=\"text-align: right;\">\n",
       "      <th></th>\n",
       "      <th>cuisine</th>\n",
       "      <th>id</th>\n",
       "      <th>ingredients</th>\n",
       "    </tr>\n",
       "  </thead>\n",
       "  <tbody>\n",
       "    <tr>\n",
       "      <th>0</th>\n",
       "      <td>greek</td>\n",
       "      <td>10259</td>\n",
       "      <td>[romaine lettuce, black olives, grape tomatoes...</td>\n",
       "    </tr>\n",
       "    <tr>\n",
       "      <th>1</th>\n",
       "      <td>southern_us</td>\n",
       "      <td>25693</td>\n",
       "      <td>[plain flour, ground pepper, salt, tomatoes, g...</td>\n",
       "    </tr>\n",
       "    <tr>\n",
       "      <th>2</th>\n",
       "      <td>filipino</td>\n",
       "      <td>20130</td>\n",
       "      <td>[eggs, pepper, salt, mayonaise, cooking oil, g...</td>\n",
       "    </tr>\n",
       "    <tr>\n",
       "      <th>3</th>\n",
       "      <td>indian</td>\n",
       "      <td>22213</td>\n",
       "      <td>[water, vegetable oil, wheat, salt]</td>\n",
       "    </tr>\n",
       "    <tr>\n",
       "      <th>4</th>\n",
       "      <td>indian</td>\n",
       "      <td>13162</td>\n",
       "      <td>[black pepper, shallots, cornflour, cayenne pe...</td>\n",
       "    </tr>\n",
       "  </tbody>\n",
       "</table>\n",
       "</div>"
      ],
      "text/plain": [
       "       cuisine     id                                        ingredients\n",
       "0        greek  10259  [romaine lettuce, black olives, grape tomatoes...\n",
       "1  southern_us  25693  [plain flour, ground pepper, salt, tomatoes, g...\n",
       "2     filipino  20130  [eggs, pepper, salt, mayonaise, cooking oil, g...\n",
       "3       indian  22213                [water, vegetable oil, wheat, salt]\n",
       "4       indian  13162  [black pepper, shallots, cornflour, cayenne pe..."
      ]
     },
     "execution_count": 3,
     "metadata": {},
     "output_type": "execute_result"
    }
   ],
   "source": [
    "df.head()"
   ]
  },
  {
   "cell_type": "code",
   "execution_count": 4,
   "metadata": {},
   "outputs": [],
   "source": [
    "df.set_index(\"id\", inplace=True)"
   ]
  },
  {
   "cell_type": "code",
   "execution_count": 5,
   "metadata": {
    "scrolled": true
   },
   "outputs": [
    {
     "data": {
      "text/html": [
       "<div>\n",
       "<style scoped>\n",
       "    .dataframe tbody tr th:only-of-type {\n",
       "        vertical-align: middle;\n",
       "    }\n",
       "\n",
       "    .dataframe tbody tr th {\n",
       "        vertical-align: top;\n",
       "    }\n",
       "\n",
       "    .dataframe thead th {\n",
       "        text-align: right;\n",
       "    }\n",
       "</style>\n",
       "<table border=\"1\" class=\"dataframe\">\n",
       "  <thead>\n",
       "    <tr style=\"text-align: right;\">\n",
       "      <th></th>\n",
       "      <th>cuisine</th>\n",
       "      <th>ingredients</th>\n",
       "    </tr>\n",
       "    <tr>\n",
       "      <th>id</th>\n",
       "      <th></th>\n",
       "      <th></th>\n",
       "    </tr>\n",
       "  </thead>\n",
       "  <tbody>\n",
       "    <tr>\n",
       "      <th>10259</th>\n",
       "      <td>greek</td>\n",
       "      <td>[romaine lettuce, black olives, grape tomatoes...</td>\n",
       "    </tr>\n",
       "    <tr>\n",
       "      <th>25693</th>\n",
       "      <td>southern_us</td>\n",
       "      <td>[plain flour, ground pepper, salt, tomatoes, g...</td>\n",
       "    </tr>\n",
       "    <tr>\n",
       "      <th>20130</th>\n",
       "      <td>filipino</td>\n",
       "      <td>[eggs, pepper, salt, mayonaise, cooking oil, g...</td>\n",
       "    </tr>\n",
       "    <tr>\n",
       "      <th>22213</th>\n",
       "      <td>indian</td>\n",
       "      <td>[water, vegetable oil, wheat, salt]</td>\n",
       "    </tr>\n",
       "    <tr>\n",
       "      <th>13162</th>\n",
       "      <td>indian</td>\n",
       "      <td>[black pepper, shallots, cornflour, cayenne pe...</td>\n",
       "    </tr>\n",
       "  </tbody>\n",
       "</table>\n",
       "</div>"
      ],
      "text/plain": [
       "           cuisine                                        ingredients\n",
       "id                                                                   \n",
       "10259        greek  [romaine lettuce, black olives, grape tomatoes...\n",
       "25693  southern_us  [plain flour, ground pepper, salt, tomatoes, g...\n",
       "20130     filipino  [eggs, pepper, salt, mayonaise, cooking oil, g...\n",
       "22213       indian                [water, vegetable oil, wheat, salt]\n",
       "13162       indian  [black pepper, shallots, cornflour, cayenne pe..."
      ]
     },
     "execution_count": 5,
     "metadata": {},
     "output_type": "execute_result"
    }
   ],
   "source": [
    "df.head()"
   ]
  },
  {
   "cell_type": "code",
   "execution_count": 6,
   "metadata": {},
   "outputs": [
    {
     "data": {
      "text/plain": [
       "italian         7838\n",
       "mexican         6438\n",
       "southern_us     4320\n",
       "indian          3003\n",
       "chinese         2673\n",
       "french          2646\n",
       "cajun_creole    1546\n",
       "thai            1539\n",
       "japanese        1423\n",
       "greek           1175\n",
       "spanish          989\n",
       "korean           830\n",
       "vietnamese       825\n",
       "moroccan         821\n",
       "british          804\n",
       "filipino         755\n",
       "irish            667\n",
       "jamaican         526\n",
       "russian          489\n",
       "brazilian        467\n",
       "Name: cuisine, dtype: int64"
      ]
     },
     "execution_count": 6,
     "metadata": {},
     "output_type": "execute_result"
    }
   ],
   "source": [
    "df[\"cuisine\"].value_counts()"
   ]
  },
  {
   "cell_type": "code",
   "execution_count": 7,
   "metadata": {},
   "outputs": [
    {
     "data": {
      "text/plain": [
       "id\n",
       "10259    [romaine lettuce, black olives, grape tomatoes...\n",
       "25693    [plain flour, ground pepper, salt, tomatoes, g...\n",
       "20130    [eggs, pepper, salt, mayonaise, cooking oil, g...\n",
       "22213                  [water, vegetable oil, wheat, salt]\n",
       "13162    [black pepper, shallots, cornflour, cayenne pe...\n",
       "Name: ingredients, dtype: object"
      ]
     },
     "execution_count": 7,
     "metadata": {},
     "output_type": "execute_result"
    }
   ],
   "source": [
    "df[\"ingredients\"].head()"
   ]
  },
  {
   "cell_type": "code",
   "execution_count": 8,
   "metadata": {},
   "outputs": [],
   "source": [
    "df[\"ingredients_clean\"] = df[\"ingredients\"].astype(str)\n",
    "df[\"ingredients_clean\"] = df[\"ingredients_clean\"].str.replace(\" \",\"\")\n",
    "df[\"ingredients_clean\"] = df[\"ingredients_clean\"].str.replace(\",\",\" \")"
   ]
  },
  {
   "cell_type": "code",
   "execution_count": 9,
   "metadata": {
    "scrolled": true
   },
   "outputs": [
    {
     "data": {
      "text/plain": [
       "id\n",
       "10259    ['romainelettuce' 'blackolives' 'grapetomatoes...\n",
       "25693    ['plainflour' 'groundpepper' 'salt' 'tomatoes'...\n",
       "20130    ['eggs' 'pepper' 'salt' 'mayonaise' 'cookingoi...\n",
       "22213              ['water' 'vegetableoil' 'wheat' 'salt']\n",
       "13162    ['blackpepper' 'shallots' 'cornflour' 'cayenne...\n",
       "Name: ingredients_clean, dtype: object"
      ]
     },
     "execution_count": 9,
     "metadata": {},
     "output_type": "execute_result"
    }
   ],
   "source": [
    "df[\"ingredients_clean\"].head()"
   ]
  },
  {
   "cell_type": "code",
   "execution_count": 10,
   "metadata": {},
   "outputs": [],
   "source": [
    "df[\"ingredients_clean\"] = df[\"ingredients_clean\"].str.replace(\"salt\",\"\")"
   ]
  },
  {
   "cell_type": "code",
   "execution_count": 11,
   "metadata": {},
   "outputs": [
    {
     "data": {
      "text/plain": [
       "id\n",
       "10259    ['romainelettuce' 'blackolives' 'grapetomatoes...\n",
       "25693    ['plainflour' 'groundpepper' '' 'tomatoes' 'gr...\n",
       "20130    ['eggs' 'pepper' '' 'mayonaise' 'cookingoil' '...\n",
       "22213                  ['water' 'vegetableoil' 'wheat' '']\n",
       "13162    ['blackpepper' 'shallots' 'cornflour' 'cayenne...\n",
       "Name: ingredients_clean, dtype: object"
      ]
     },
     "execution_count": 11,
     "metadata": {},
     "output_type": "execute_result"
    }
   ],
   "source": [
    "df[\"ingredients_clean\"].head()"
   ]
  },
  {
   "cell_type": "markdown",
   "metadata": {},
   "source": [
    "## Build FT table"
   ]
  },
  {
   "cell_type": "code",
   "execution_count": 12,
   "metadata": {},
   "outputs": [
    {
     "data": {
      "text/plain": [
       "CountVectorizer(analyzer='word', binary=False, decode_error='strict',\n",
       "        dtype=<class 'numpy.int64'>, encoding='utf-8', input='content',\n",
       "        lowercase=True, max_df=1.0, max_features=None, min_df=1,\n",
       "        ngram_range=(1, 1), preprocessor=None, stop_words=None,\n",
       "        strip_accents=None, token_pattern='(?u)\\\\b\\\\w\\\\w+\\\\b',\n",
       "        tokenizer=None, vocabulary=None)"
      ]
     },
     "execution_count": 12,
     "metadata": {},
     "output_type": "execute_result"
    }
   ],
   "source": [
    "from sklearn.feature_extraction.text import CountVectorizer\n",
    "cvec = CountVectorizer()\n",
    "cvec.fit(np.array(df[\"ingredients_clean\"]))"
   ]
  },
  {
   "cell_type": "code",
   "execution_count": 13,
   "metadata": {},
   "outputs": [
    {
     "data": {
      "text/plain": [
       "6792"
      ]
     },
     "execution_count": 13,
     "metadata": {},
     "output_type": "execute_result"
    }
   ],
   "source": [
    "len(cvec.get_feature_names())"
   ]
  },
  {
   "cell_type": "code",
   "execution_count": 14,
   "metadata": {},
   "outputs": [
    {
     "data": {
      "text/plain": [
       "['italian',\n",
       " 'mexican',\n",
       " 'southern_us',\n",
       " 'indian',\n",
       " 'chinese',\n",
       " 'french',\n",
       " 'cajun_creole',\n",
       " 'thai',\n",
       " 'japanese',\n",
       " 'greek',\n",
       " 'spanish',\n",
       " 'korean',\n",
       " 'vietnamese',\n",
       " 'moroccan',\n",
       " 'british',\n",
       " 'filipino',\n",
       " 'irish',\n",
       " 'jamaican',\n",
       " 'russian',\n",
       " 'brazilian']"
      ]
     },
     "execution_count": 14,
     "metadata": {},
     "output_type": "execute_result"
    }
   ],
   "source": [
    "cuisines = df[\"cuisine\"].value_counts().index.tolist()\n",
    "cuisines"
   ]
  },
  {
   "cell_type": "code",
   "execution_count": 15,
   "metadata": {},
   "outputs": [
    {
     "name": "stdout",
     "output_type": "stream",
     "text": [
      "italian\n",
      "mexican\n",
      "southern_us\n",
      "indian\n",
      "chinese\n",
      "french\n",
      "cajun_creole\n",
      "thai\n",
      "japanese\n",
      "greek\n",
      "spanish\n",
      "korean\n",
      "vietnamese\n",
      "moroccan\n",
      "british\n",
      "filipino\n",
      "irish\n",
      "jamaican\n",
      "russian\n",
      "brazilian\n"
     ]
    }
   ],
   "source": [
    "doc_matrix = cvec.transform(df[\"ingredients_clean\"])\n",
    "tf = np.sum(doc_matrix,axis=0)\n",
    "total = np.squeeze(np.asarray(tf))\n",
    "term_freq_df = pd.DataFrame([total],columns=cvec.get_feature_names()).transpose()\n",
    "term_freq_df.columns = [\"total\"]\n",
    "for each in cuisines:\n",
    "    print(each)\n",
    "    doc_matrix = cvec.transform(df[\"ingredients_clean\"][df[\"cuisine\"] == each])\n",
    "    tf = np.sum(doc_matrix,axis=0)\n",
    "    df_new = np.squeeze(np.asarray(tf))\n",
    "    term_freq_df[each] = pd.DataFrame([df_new],columns=cvec.get_feature_names()).transpose()"
   ]
  },
  {
   "cell_type": "code",
   "execution_count": 16,
   "metadata": {},
   "outputs": [
    {
     "name": "stdout",
     "output_type": "stream",
     "text": [
      "<class 'pandas.core.frame.DataFrame'>\n",
      "Index: 6792 entries, 10oz to zucchiniblossoms\n",
      "Data columns (total 21 columns):\n",
      "total           6792 non-null int64\n",
      "italian         6792 non-null int64\n",
      "mexican         6792 non-null int64\n",
      "southern_us     6792 non-null int64\n",
      "indian          6792 non-null int64\n",
      "chinese         6792 non-null int64\n",
      "french          6792 non-null int64\n",
      "cajun_creole    6792 non-null int64\n",
      "thai            6792 non-null int64\n",
      "japanese        6792 non-null int64\n",
      "greek           6792 non-null int64\n",
      "spanish         6792 non-null int64\n",
      "korean          6792 non-null int64\n",
      "vietnamese      6792 non-null int64\n",
      "moroccan        6792 non-null int64\n",
      "british         6792 non-null int64\n",
      "filipino        6792 non-null int64\n",
      "irish           6792 non-null int64\n",
      "jamaican        6792 non-null int64\n",
      "russian         6792 non-null int64\n",
      "brazilian       6792 non-null int64\n",
      "dtypes: int64(21)\n",
      "memory usage: 1.1+ MB\n"
     ]
    },
    {
     "data": {
      "text/html": [
       "<div>\n",
       "<style scoped>\n",
       "    .dataframe tbody tr th:only-of-type {\n",
       "        vertical-align: middle;\n",
       "    }\n",
       "\n",
       "    .dataframe tbody tr th {\n",
       "        vertical-align: top;\n",
       "    }\n",
       "\n",
       "    .dataframe thead th {\n",
       "        text-align: right;\n",
       "    }\n",
       "</style>\n",
       "<table border=\"1\" class=\"dataframe\">\n",
       "  <thead>\n",
       "    <tr style=\"text-align: right;\">\n",
       "      <th></th>\n",
       "      <th>total</th>\n",
       "      <th>italian</th>\n",
       "      <th>mexican</th>\n",
       "      <th>southern_us</th>\n",
       "      <th>indian</th>\n",
       "      <th>chinese</th>\n",
       "      <th>french</th>\n",
       "      <th>cajun_creole</th>\n",
       "      <th>thai</th>\n",
       "      <th>japanese</th>\n",
       "      <th>...</th>\n",
       "      <th>spanish</th>\n",
       "      <th>korean</th>\n",
       "      <th>vietnamese</th>\n",
       "      <th>moroccan</th>\n",
       "      <th>british</th>\n",
       "      <th>filipino</th>\n",
       "      <th>irish</th>\n",
       "      <th>jamaican</th>\n",
       "      <th>russian</th>\n",
       "      <th>brazilian</th>\n",
       "    </tr>\n",
       "  </thead>\n",
       "  <tbody>\n",
       "    <tr>\n",
       "      <th>10oz</th>\n",
       "      <td>5</td>\n",
       "      <td>3</td>\n",
       "      <td>1</td>\n",
       "      <td>0</td>\n",
       "      <td>0</td>\n",
       "      <td>0</td>\n",
       "      <td>0</td>\n",
       "      <td>0</td>\n",
       "      <td>0</td>\n",
       "      <td>0</td>\n",
       "      <td>...</td>\n",
       "      <td>0</td>\n",
       "      <td>0</td>\n",
       "      <td>0</td>\n",
       "      <td>0</td>\n",
       "      <td>0</td>\n",
       "      <td>0</td>\n",
       "      <td>0</td>\n",
       "      <td>0</td>\n",
       "      <td>0</td>\n",
       "      <td>0</td>\n",
       "    </tr>\n",
       "    <tr>\n",
       "      <th>14</th>\n",
       "      <td>3</td>\n",
       "      <td>1</td>\n",
       "      <td>2</td>\n",
       "      <td>0</td>\n",
       "      <td>0</td>\n",
       "      <td>0</td>\n",
       "      <td>0</td>\n",
       "      <td>0</td>\n",
       "      <td>0</td>\n",
       "      <td>0</td>\n",
       "      <td>...</td>\n",
       "      <td>0</td>\n",
       "      <td>0</td>\n",
       "      <td>0</td>\n",
       "      <td>0</td>\n",
       "      <td>0</td>\n",
       "      <td>0</td>\n",
       "      <td>0</td>\n",
       "      <td>0</td>\n",
       "      <td>0</td>\n",
       "      <td>0</td>\n",
       "    </tr>\n",
       "    <tr>\n",
       "      <th>14oz</th>\n",
       "      <td>2</td>\n",
       "      <td>0</td>\n",
       "      <td>1</td>\n",
       "      <td>0</td>\n",
       "      <td>1</td>\n",
       "      <td>0</td>\n",
       "      <td>0</td>\n",
       "      <td>0</td>\n",
       "      <td>0</td>\n",
       "      <td>0</td>\n",
       "      <td>...</td>\n",
       "      <td>0</td>\n",
       "      <td>0</td>\n",
       "      <td>0</td>\n",
       "      <td>0</td>\n",
       "      <td>0</td>\n",
       "      <td>0</td>\n",
       "      <td>0</td>\n",
       "      <td>0</td>\n",
       "      <td>0</td>\n",
       "      <td>0</td>\n",
       "    </tr>\n",
       "    <tr>\n",
       "      <th>15oz</th>\n",
       "      <td>3</td>\n",
       "      <td>0</td>\n",
       "      <td>3</td>\n",
       "      <td>0</td>\n",
       "      <td>0</td>\n",
       "      <td>0</td>\n",
       "      <td>0</td>\n",
       "      <td>0</td>\n",
       "      <td>0</td>\n",
       "      <td>0</td>\n",
       "      <td>...</td>\n",
       "      <td>0</td>\n",
       "      <td>0</td>\n",
       "      <td>0</td>\n",
       "      <td>0</td>\n",
       "      <td>0</td>\n",
       "      <td>0</td>\n",
       "      <td>0</td>\n",
       "      <td>0</td>\n",
       "      <td>0</td>\n",
       "      <td>0</td>\n",
       "    </tr>\n",
       "    <tr>\n",
       "      <th>1inchthick</th>\n",
       "      <td>2</td>\n",
       "      <td>0</td>\n",
       "      <td>0</td>\n",
       "      <td>2</td>\n",
       "      <td>0</td>\n",
       "      <td>0</td>\n",
       "      <td>0</td>\n",
       "      <td>0</td>\n",
       "      <td>0</td>\n",
       "      <td>0</td>\n",
       "      <td>...</td>\n",
       "      <td>0</td>\n",
       "      <td>0</td>\n",
       "      <td>0</td>\n",
       "      <td>0</td>\n",
       "      <td>0</td>\n",
       "      <td>0</td>\n",
       "      <td>0</td>\n",
       "      <td>0</td>\n",
       "      <td>0</td>\n",
       "      <td>0</td>\n",
       "    </tr>\n",
       "  </tbody>\n",
       "</table>\n",
       "<p>5 rows × 21 columns</p>\n",
       "</div>"
      ],
      "text/plain": [
       "            total  italian  mexican  southern_us  indian  chinese  french  \\\n",
       "10oz            5        3        1            0       0        0       0   \n",
       "14              3        1        2            0       0        0       0   \n",
       "14oz            2        0        1            0       1        0       0   \n",
       "15oz            3        0        3            0       0        0       0   \n",
       "1inchthick      2        0        0            2       0        0       0   \n",
       "\n",
       "            cajun_creole  thai  japanese    ...      spanish  korean  \\\n",
       "10oz                   0     0         0    ...            0       0   \n",
       "14                     0     0         0    ...            0       0   \n",
       "14oz                   0     0         0    ...            0       0   \n",
       "15oz                   0     0         0    ...            0       0   \n",
       "1inchthick             0     0         0    ...            0       0   \n",
       "\n",
       "            vietnamese  moroccan  british  filipino  irish  jamaican  russian  \\\n",
       "10oz                 0         0        0         0      0         0        0   \n",
       "14                   0         0        0         0      0         0        0   \n",
       "14oz                 0         0        0         0      0         0        0   \n",
       "15oz                 0         0        0         0      0         0        0   \n",
       "1inchthick           0         0        0         0      0         0        0   \n",
       "\n",
       "            brazilian  \n",
       "10oz                0  \n",
       "14                  0  \n",
       "14oz                0  \n",
       "15oz                0  \n",
       "1inchthick          0  \n",
       "\n",
       "[5 rows x 21 columns]"
      ]
     },
     "execution_count": 16,
     "metadata": {},
     "output_type": "execute_result"
    }
   ],
   "source": [
    "term_freq_df.info()\n",
    "term_freq_df.head()"
   ]
  },
  {
   "cell_type": "markdown",
   "metadata": {},
   "source": [
    "# Visualize frequencies"
   ]
  },
  {
   "cell_type": "code",
   "execution_count": 17,
   "metadata": {},
   "outputs": [],
   "source": [
    "from __future__ import print_function\n",
    "from ipywidgets import interact, interactive, fixed, interact_manual\n",
    "import ipywidgets as widgets\n",
    "\n",
    "def f(kitchen):\n",
    "    y_pos = np.arange(50)\n",
    "    plt.figure(figsize=(20,15))\n",
    "    plt.barh(y_pos, term_freq_df.sort_values(by=kitchen, ascending=False)[kitchen][:50], align='center', alpha=0.5)\n",
    "    plt.yticks(y_pos, term_freq_df.sort_values(by=kitchen, ascending=False)[kitchen][:50].index,rotation='horizontal')\n",
    "    plt.ylabel('Token')\n",
    "    plt.xlabel('Frequency')\n",
    "    plt.title('Top 50 tokens in cuisine')"
   ]
  },
  {
   "cell_type": "code",
   "execution_count": 18,
   "metadata": {},
   "outputs": [
    {
     "data": {
      "application/vnd.jupyter.widget-view+json": {
       "model_id": "93733a713e2f4eb8ad124b4cff3f9f9f",
       "version_major": 2,
       "version_minor": 0
      },
      "text/plain": [
       "interactive(children=(Dropdown(description='kitchen', options={'total': 'total', 'italian': 'italian', 'mexica…"
      ]
     },
     "metadata": {},
     "output_type": "display_data"
    }
   ],
   "source": [
    "interact(f, kitchen={'total':'total','italian':'italian', 'mexican': 'mexican', 'southern_us': 'southern_us', 'indian': 'indian',\\\n",
    " 'chinese': 'chinese', 'french':'french', 'cajun_creole':'cajun_creole',  'thai':'thai', 'japanese': 'japanese', \\\n",
    " 'greek': 'greek', 'spanish': 'spanish', 'korean': 'korean', 'vietnamese': 'vietnamese', 'moroccan':'moroccan',\\\n",
    " 'british': 'british', 'filipino': 'filipino', 'irish': 'irish', 'jamaican': 'jamaican', 'russian': 'russian', \\\n",
    " 'brazilian': 'brazilian'});\n",
    "\n"
   ]
  },
  {
   "cell_type": "code",
   "execution_count": 19,
   "metadata": {},
   "outputs": [],
   "source": [
    "for each in cuisines:\n",
    "    term_freq_df[each+\"_support\"] = (term_freq_df[each] / term_freq_df[\"total\"])*100"
   ]
  },
  {
   "cell_type": "code",
   "execution_count": 20,
   "metadata": {},
   "outputs": [],
   "source": [
    "from __future__ import print_function\n",
    "from ipywidgets import interact, interactive, fixed, interact_manual\n",
    "import ipywidgets as widgets\n",
    "\n",
    "def f(kitchen):\n",
    "    y_pos = np.arange(50)\n",
    "    plt.figure(figsize=(20,15))\n",
    "    plt.barh(y_pos, term_freq_df.sort_values(by=kitchen+\"_support\", ascending=False)[kitchen+\"_support\"][:50], align='center', alpha=0.5)\n",
    "    plt.yticks(y_pos, term_freq_df.sort_values(by=kitchen+\"_support\", ascending=False)[kitchen+\"_support\"][:50].index,rotation='horizontal')\n",
    "    plt.ylabel('Token')\n",
    "    plt.xlabel('Support (%)')\n",
    "    plt.title('Top 50 tokens in cuisine')"
   ]
  },
  {
   "cell_type": "code",
   "execution_count": 21,
   "metadata": {},
   "outputs": [
    {
     "data": {
      "application/vnd.jupyter.widget-view+json": {
       "model_id": "10c8a070fad44d8bb0727063cec9c6fe",
       "version_major": 2,
       "version_minor": 0
      },
      "text/plain": [
       "interactive(children=(Dropdown(description='kitchen', options={'italian': 'italian', 'mexican': 'mexican', 'so…"
      ]
     },
     "metadata": {},
     "output_type": "display_data"
    }
   ],
   "source": [
    "interact(f, kitchen={'italian':'italian', 'mexican': 'mexican', 'southern_us': 'southern_us', 'indian': 'indian',\\\n",
    "                     'chinese': 'chinese', 'french':'french', 'cajun_creole':'cajun_creole',  'thai':'thai',\\\n",
    "                     'japanese': 'japanese', 'greek': 'greek', 'spanish': 'spanish', 'korean': 'korean', \\\n",
    "                     'vietnamese': 'vietnamese', 'moroccan':'moroccan', 'british': 'british', \\\n",
    "                     'filipino': 'filipino', 'irish': 'irish', 'jamaican': 'jamaican', 'russian': 'russian', \\\n",
    "                      'brazilian': 'brazilian'});"
   ]
  },
  {
   "cell_type": "code",
   "execution_count": 22,
   "metadata": {},
   "outputs": [],
   "source": [
    "for each in cuisines:\n",
    "    term_freq_df[each+\"_coverage\"] = (term_freq_df[each] / term_freq_df[each].sum())*100"
   ]
  },
  {
   "cell_type": "code",
   "execution_count": 23,
   "metadata": {},
   "outputs": [],
   "source": [
    "from __future__ import print_function\n",
    "from ipywidgets import interact, interactive, fixed, interact_manual\n",
    "import ipywidgets as widgets\n",
    "\n",
    "def f(kitchen):\n",
    "    y_pos = np.arange(50)\n",
    "    plt.figure(figsize=(20,15))\n",
    "    plt.barh(y_pos, term_freq_df.sort_values(by=kitchen+\"_coverage\", ascending=False)[kitchen+\"_coverage\"][:50], align='center', alpha=0.5)\n",
    "    plt.yticks(y_pos, term_freq_df.sort_values(by=kitchen+\"_coverage\", ascending=False)[kitchen+\"_coverage\"][:50].index,rotation='horizontal')\n",
    "    plt.ylabel('Token')\n",
    "    plt.xlabel('Coverage (%)')\n",
    "    plt.title('Top 50 tokens in cuisine')"
   ]
  },
  {
   "cell_type": "code",
   "execution_count": 24,
   "metadata": {},
   "outputs": [
    {
     "data": {
      "application/vnd.jupyter.widget-view+json": {
       "model_id": "4f5e14b69efe4521b5b4ccb6f62eb7dc",
       "version_major": 2,
       "version_minor": 0
      },
      "text/plain": [
       "interactive(children=(Dropdown(description='kitchen', options={'italian': 'italian', 'mexican': 'mexican', 'so…"
      ]
     },
     "metadata": {},
     "output_type": "display_data"
    }
   ],
   "source": [
    "interact(f, kitchen={'italian':'italian', 'mexican': 'mexican', 'southern_us': 'southern_us', 'indian': 'indian',\\\n",
    "                     'chinese': 'chinese', 'french':'french', 'cajun_creole':'cajun_creole',  'thai':'thai',\\\n",
    "                     'japanese': 'japanese', 'greek': 'greek', 'spanish': 'spanish', 'korean': 'korean', \\\n",
    "                     'vietnamese': 'vietnamese', 'moroccan':'moroccan', 'british': 'british', \\\n",
    "                     'filipino': 'filipino', 'irish': 'irish', 'jamaican': 'jamaican', 'russian': 'russian', \\\n",
    "                      'brazilian': 'brazilian'});"
   ]
  },
  {
   "cell_type": "code",
   "execution_count": 25,
   "metadata": {},
   "outputs": [],
   "source": [
    "from __future__ import print_function\n",
    "from ipywidgets import interact, interactive, fixed, interact_manual\n",
    "import ipywidgets as widgets\n",
    "\n",
    "def f(support,kitchen):\n",
    "    support\n",
    "    y_pos = np.arange(50)\n",
    "    plt.figure(figsize=(20,15))\n",
    "    plt.barh(y_pos, term_freq_df[term_freq_df[kitchen+\"_support\"]>support].sort_values(by=kitchen+\"_coverage\", ascending=False)[kitchen+\"_coverage\"][:50], align='center', alpha=0.5)\n",
    "    plt.yticks(y_pos, term_freq_df[term_freq_df[kitchen+\"_support\"]>support].sort_values(by=kitchen+\"_coverage\", ascending=False)[kitchen+\"_coverage\"][:50].index,rotation='horizontal')\n",
    "    plt.ylabel('Token')\n",
    "    plt.xlabel('Coverage (%)')\n",
    "    plt.title('Top 50 tokens in cuisine')"
   ]
  },
  {
   "cell_type": "code",
   "execution_count": 26,
   "metadata": {},
   "outputs": [
    {
     "data": {
      "application/vnd.jupyter.widget-view+json": {
       "model_id": "cc6f8f65cb104fb09a631d65dc6fe5bd",
       "version_major": 2,
       "version_minor": 0
      },
      "text/plain": [
       "interactive(children=(IntSlider(value=50, description='support', max=99), Dropdown(description='kitchen', opti…"
      ]
     },
     "metadata": {},
     "output_type": "display_data"
    }
   ],
   "source": [
    "interact(f, kitchen={'italian':'italian', 'mexican': 'mexican', 'southern_us': 'southern_us', 'indian': 'indian',\\\n",
    "                     'chinese': 'chinese', 'french':'french', 'cajun_creole':'cajun_creole',  'thai':'thai',\\\n",
    "                     'japanese': 'japanese', 'greek': 'greek', 'spanish': 'spanish', 'korean': 'korean', \\\n",
    "                     'vietnamese': 'vietnamese', 'moroccan':'moroccan', 'british': 'british', \\\n",
    "                     'filipino': 'filipino', 'irish': 'irish', 'jamaican': 'jamaican', 'russian': 'russian', \\\n",
    "                      'brazilian': 'brazilian'}, support=widgets.IntSlider(min=0,max=99,step=1,value=50));"
   ]
  },
  {
   "cell_type": "markdown",
   "metadata": {},
   "source": [
    "## Select most relevant frequencies"
   ]
  },
  {
   "cell_type": "markdown",
   "metadata": {},
   "source": [
    "### using fixed support and coverage"
   ]
  },
  {
   "cell_type": "markdown",
   "metadata": {},
   "source": [
    "d = dict({})\n",
    "for each in cuisines:\n",
    "    d[each] = term_freq_df[(term_freq_df[each+\"_support\"]>90) & (term_freq_df[each+\"_coverage\"]>0.1)].index.tolist()\n",
    "d"
   ]
  },
  {
   "cell_type": "markdown",
   "metadata": {},
   "source": [
    "ingredients_list = term_freq_df[(term_freq_df[each+\"_support\"]>99) & (term_freq_df[each+\"_coverage\"]>99)].index.tolist()\n",
    "for each in cuisines:\n",
    "    ingredients_list.extend(term_freq_df[(term_freq_df[each+\"_support\"]>90) & (term_freq_df[each+\"_coverage\"]>0.1)].index.tolist())"
   ]
  },
  {
   "cell_type": "markdown",
   "metadata": {},
   "source": [
    "ingredients_list"
   ]
  },
  {
   "cell_type": "markdown",
   "metadata": {},
   "source": [
    "### using top ingredients (fixed support, top coverage)\n"
   ]
  },
  {
   "cell_type": "markdown",
   "metadata": {},
   "source": [
    "d = dict({})\n",
    "for each in cuisines:\n",
    "    d[each] = term_freq_df[term_freq_df[each+\"_support\"]>90].sort_values(by=each+\"_coverage\", ascending=False)[each+\"_coverage\"][:5].index.tolist()\n",
    "d"
   ]
  },
  {
   "cell_type": "markdown",
   "metadata": {},
   "source": [
    "ingredients_list = term_freq_df[(term_freq_df[each+\"_support\"]>99) & (term_freq_df[each+\"_coverage\"]>99)].index.tolist()\n",
    "for each in cuisines:\n",
    "    ingredients_list.extend(term_freq_df[term_freq_df[each+\"_support\"]>90].sort_values(by=each+\"_coverage\", ascending=False)[each+\"_coverage\"][:5].index.tolist())"
   ]
  },
  {
   "cell_type": "markdown",
   "metadata": {},
   "source": [
    "ingredients_list"
   ]
  },
  {
   "cell_type": "markdown",
   "metadata": {},
   "source": [
    "### using top ingredients (fixed support, top coverage) 2"
   ]
  },
  {
   "cell_type": "code",
   "execution_count": 27,
   "metadata": {},
   "outputs": [],
   "source": [
    "ingredients_list = term_freq_df[(term_freq_df[each+\"_support\"]>99) & (term_freq_df[each+\"_coverage\"]>99)].index.tolist()\n",
    "for each in cuisines:\n",
    "    ingredients_list.extend(term_freq_df[term_freq_df[each+\"_support\"]>90].sort_values(by=each+\"_coverage\", ascending=False)[each+\"_coverage\"][:5].index.tolist())\n",
    "    ingredients_list.extend(term_freq_df[(term_freq_df[each+\"_support\"]>90) & (term_freq_df[each+\"_coverage\"]>0.1)].index.tolist())"
   ]
  },
  {
   "cell_type": "code",
   "execution_count": 28,
   "metadata": {},
   "outputs": [],
   "source": [
    "ingredients_list = list(set(ingredients_list))"
   ]
  },
  {
   "cell_type": "code",
   "execution_count": 29,
   "metadata": {},
   "outputs": [
    {
     "data": {
      "text/plain": [
       "['salsaverde',\n",
       " 'tomatillos',\n",
       " 'filepowder',\n",
       " 'kerrygoldpureirishbutter',\n",
       " 'instantpuddingmix',\n",
       " 'kimchi',\n",
       " 'armagnac',\n",
       " 'mexicanoregano',\n",
       " 'jerkseasoning',\n",
       " 'whitemiso',\n",
       " 'anchochilepepper',\n",
       " 'granola',\n",
       " 'fermentedblackbeans',\n",
       " 'japaneserice',\n",
       " 'blackbeans',\n",
       " 'ai',\n",
       " 'poblanopeppers',\n",
       " 'wasabipaste',\n",
       " 'lowsodiumvegetablejuice',\n",
       " 'quickcookinggrits',\n",
       " 'johnsonvillesmokedsausage',\n",
       " 'masala',\n",
       " 'harissapaste',\n",
       " 'greek',\n",
       " 'rioja',\n",
       " 'aã',\n",
       " 'paellarice',\n",
       " 'merguezsausage',\n",
       " 'calamansi',\n",
       " 'ricottacheese',\n",
       " 'jamaicanjerkseason',\n",
       " 'pecorinoromanocheese',\n",
       " 'pompeiancanolaoilandextravirginoliveoil',\n",
       " 'norisheets',\n",
       " 'buttermilkbiscuits',\n",
       " 'gochugaru',\n",
       " 'blackmustardseeds',\n",
       " 'gochujangbase',\n",
       " 'refriedbeans',\n",
       " 'masaharina',\n",
       " 'ackee',\n",
       " 'irishwhiskey',\n",
       " 'quincepaste',\n",
       " 'raselhanout',\n",
       " 'accentseasoning',\n",
       " 'quesofresco',\n",
       " 'freshcurryleaves',\n",
       " 'collards',\n",
       " 'redrussiankale',\n",
       " 'tortillachips',\n",
       " 'brownmustardseeds',\n",
       " 'cilantroroot',\n",
       " 'sodabread',\n",
       " 'vietnamesecoriander',\n",
       " 'gumbofile',\n",
       " 'lasagnanoodles',\n",
       " 'calvados',\n",
       " 'parsleyroot',\n",
       " 'stiltoncheese',\n",
       " 'frozenbanana',\n",
       " 'callaloo',\n",
       " 'beefdrippings',\n",
       " 'whitecornmeal',\n",
       " 'knockwurst',\n",
       " 'freshmozzarella',\n",
       " 'driedwoodearmushrooms',\n",
       " 'dendeoil',\n",
       " 'beefkidney',\n",
       " 'dashikombu',\n",
       " 'driedbonitoflakes',\n",
       " 'galangal',\n",
       " 'risingcornmeal',\n",
       " 'dashi',\n",
       " 'aipowder',\n",
       " 'kasha',\n",
       " 'tacoseasoning',\n",
       " 'paneer',\n",
       " 'jerksauce',\n",
       " 'nuoccham',\n",
       " 'asafoetida',\n",
       " 'limeleaves',\n",
       " 'eggbread',\n",
       " 'ouzo',\n",
       " 'asianbasil',\n",
       " 'fenugreekleaves',\n",
       " 'italiansausage',\n",
       " 'bonitoflakes',\n",
       " 'dashipowder',\n",
       " 'chinesericewine',\n",
       " 'thairedcurrypaste',\n",
       " 'pastasauce',\n",
       " 'porridgeoats',\n",
       " 'calamansijuice',\n",
       " 'dicedgreenchilies',\n",
       " 'pesto',\n",
       " 'koreanchilepaste',\n",
       " 'wasabipowder',\n",
       " 'greekseasoning',\n",
       " 'pierogi',\n",
       " 'maniocflour',\n",
       " 'tonkatsusauce',\n",
       " 'kefalotyri',\n",
       " 'garammasala',\n",
       " 'irishbacon',\n",
       " 'shoyu',\n",
       " 'curds',\n",
       " 'chaatmasala',\n",
       " 'salsa',\n",
       " 'cachaca',\n",
       " 'wholewheatcouscous',\n",
       " 'picodegallo',\n",
       " 'koreanchileflakes',\n",
       " 'curryleaves',\n",
       " 'asianpear',\n",
       " 'thaigreencurrypaste',\n",
       " 'greencurrypaste',\n",
       " 'pitaloaves',\n",
       " 'hominy',\n",
       " 'ricesyrup',\n",
       " 'cotija',\n",
       " 'rouille',\n",
       " 'uraddal',\n",
       " 'preservedlemon',\n",
       " 'marinarasauce',\n",
       " 'adobosauce',\n",
       " 'prosciutto',\n",
       " 'johnsonvilleandouille',\n",
       " 'shreddedmontereyjackcheese',\n",
       " 'guacamole',\n",
       " 'creamedhorseradish',\n",
       " 'ricotta',\n",
       " 'szechwanpeppercorns',\n",
       " 'palmoil',\n",
       " 'konbu',\n",
       " 'lumpiaskins',\n",
       " 'fideos',\n",
       " 'nuocnam',\n",
       " 'lumpiawrappers',\n",
       " 'stilton',\n",
       " 'tacoseasoningmix',\n",
       " 'shaoxingwine',\n",
       " 'tortillas',\n",
       " 'mexicancheeseblend',\n",
       " 'flourtortillas',\n",
       " 'chipotlesinadobo',\n",
       " 'chineseblackvinegar',\n",
       " 'corntortillas',\n",
       " 'redcurrypaste',\n",
       " 'tequila',\n",
       " 'enchiladasauce']"
      ]
     },
     "execution_count": 29,
     "metadata": {},
     "output_type": "execute_result"
    }
   ],
   "source": [
    "ingredients_list"
   ]
  },
  {
   "cell_type": "markdown",
   "metadata": {},
   "source": [
    "## recode relevant ingredients do dummy vars in training set"
   ]
  },
  {
   "cell_type": "code",
   "execution_count": 30,
   "metadata": {},
   "outputs": [],
   "source": [
    "def add_var(ingredient_name):\n",
    "    df[ingredient_name] = 0\n",
    "    for index, row in df.iterrows():\n",
    "        if ingredient_name in row[\"ingredients_clean\"]:\n",
    "            df.at[index,ingredient_name] = 1"
   ]
  },
  {
   "cell_type": "code",
   "execution_count": 31,
   "metadata": {
    "scrolled": true
   },
   "outputs": [
    {
     "name": "stdout",
     "output_type": "stream",
     "text": [
      "salsaverde\n",
      "tomatillos\n",
      "filepowder\n",
      "kerrygoldpureirishbutter\n",
      "instantpuddingmix\n",
      "kimchi\n",
      "armagnac\n",
      "mexicanoregano\n",
      "jerkseasoning\n",
      "whitemiso\n",
      "anchochilepepper\n",
      "granola\n",
      "fermentedblackbeans\n",
      "japaneserice\n",
      "blackbeans\n",
      "ai\n",
      "poblanopeppers\n",
      "wasabipaste\n",
      "lowsodiumvegetablejuice\n",
      "quickcookinggrits\n",
      "johnsonvillesmokedsausage\n",
      "masala\n",
      "harissapaste\n",
      "greek\n",
      "rioja\n",
      "aã\n",
      "paellarice\n",
      "merguezsausage\n",
      "calamansi\n",
      "ricottacheese\n",
      "jamaicanjerkseason\n",
      "pecorinoromanocheese\n",
      "pompeiancanolaoilandextravirginoliveoil\n",
      "norisheets\n",
      "buttermilkbiscuits\n",
      "gochugaru\n",
      "blackmustardseeds\n",
      "gochujangbase\n",
      "refriedbeans\n",
      "masaharina\n",
      "ackee\n",
      "irishwhiskey\n",
      "quincepaste\n",
      "raselhanout\n",
      "accentseasoning\n",
      "quesofresco\n",
      "freshcurryleaves\n",
      "collards\n",
      "redrussiankale\n",
      "tortillachips\n",
      "brownmustardseeds\n",
      "cilantroroot\n",
      "sodabread\n",
      "vietnamesecoriander\n",
      "gumbofile\n",
      "lasagnanoodles\n",
      "calvados\n",
      "parsleyroot\n",
      "stiltoncheese\n",
      "frozenbanana\n",
      "callaloo\n",
      "beefdrippings\n",
      "whitecornmeal\n",
      "knockwurst\n",
      "freshmozzarella\n",
      "driedwoodearmushrooms\n",
      "dendeoil\n",
      "beefkidney\n",
      "dashikombu\n",
      "driedbonitoflakes\n",
      "galangal\n",
      "risingcornmeal\n",
      "dashi\n",
      "aipowder\n",
      "kasha\n",
      "tacoseasoning\n",
      "paneer\n",
      "jerksauce\n",
      "nuoccham\n",
      "asafoetida\n",
      "limeleaves\n",
      "eggbread\n",
      "ouzo\n",
      "asianbasil\n",
      "fenugreekleaves\n",
      "italiansausage\n",
      "bonitoflakes\n",
      "dashipowder\n",
      "chinesericewine\n",
      "thairedcurrypaste\n",
      "pastasauce\n",
      "porridgeoats\n",
      "calamansijuice\n",
      "dicedgreenchilies\n",
      "pesto\n",
      "koreanchilepaste\n",
      "wasabipowder\n",
      "greekseasoning\n",
      "pierogi\n",
      "maniocflour\n",
      "tonkatsusauce\n",
      "kefalotyri\n",
      "garammasala\n",
      "irishbacon\n",
      "shoyu\n",
      "curds\n",
      "chaatmasala\n",
      "salsa\n",
      "cachaca\n",
      "wholewheatcouscous\n",
      "picodegallo\n",
      "koreanchileflakes\n",
      "curryleaves\n",
      "asianpear\n",
      "thaigreencurrypaste\n",
      "greencurrypaste\n",
      "pitaloaves\n",
      "hominy\n",
      "ricesyrup\n",
      "cotija\n",
      "rouille\n",
      "uraddal\n",
      "preservedlemon\n",
      "marinarasauce\n",
      "adobosauce\n",
      "prosciutto\n",
      "johnsonvilleandouille\n",
      "shreddedmontereyjackcheese\n",
      "guacamole\n",
      "creamedhorseradish\n",
      "ricotta\n",
      "szechwanpeppercorns\n",
      "palmoil\n",
      "konbu\n",
      "lumpiaskins\n",
      "fideos\n",
      "nuocnam\n",
      "lumpiawrappers\n",
      "stilton\n",
      "tacoseasoningmix\n",
      "shaoxingwine\n",
      "tortillas\n",
      "mexicancheeseblend\n",
      "flourtortillas\n",
      "chipotlesinadobo\n",
      "chineseblackvinegar\n",
      "corntortillas\n",
      "redcurrypaste\n",
      "tequila\n",
      "enchiladasauce\n"
     ]
    }
   ],
   "source": [
    "for each in ingredients_list:\n",
    "    print(each)\n",
    "    add_var(each)"
   ]
  },
  {
   "cell_type": "markdown",
   "metadata": {},
   "source": [
    "# Model building using K-NN"
   ]
  },
  {
   "cell_type": "code",
   "execution_count": null,
   "metadata": {
    "scrolled": false
   },
   "outputs": [],
   "source": [
    "from sklearn.model_selection import train_test_split\n",
    "from sklearn.neighbors import KNeighborsClassifier\n",
    "np.set_printoptions(precision=2)\n",
    "\n",
    "feature_names = ingredients_list\n",
    "X = df[feature_names]\n",
    "y = df['cuisine']\n",
    "target_names = cuisines\n",
    "\n",
    "X_train, X_test, y_train, y_test = train_test_split(X, y, random_state = 0)\n",
    "\n",
    "from sklearn.preprocessing import MinMaxScaler\n",
    "scaler = MinMaxScaler()\n",
    "X_train_scaled = scaler.fit_transform(X_train)\n",
    "# we must apply the scaling to the test set that we computed for the training set\n",
    "X_test_scaled = scaler.fit_transform(X_test)\n",
    "knn = KNeighborsClassifier(n_neighbors = 5)\n",
    "knn.fit(X_train_scaled, y_train)\n",
    "print('Accuracy of K-NN classifier on training set: {:.2f}'\n",
    "     .format(knn.score(X_train_scaled, y_train)))\n",
    "print('Accuracy of K-NN classifier on test set: {:.2f}'\n",
    "     .format(knn.score(X_test_scaled, y_test)))"
   ]
  },
  {
   "cell_type": "markdown",
   "metadata": {},
   "source": [
    "# Predict cuisine on test set using model"
   ]
  },
  {
   "cell_type": "code",
   "execution_count": null,
   "metadata": {},
   "outputs": [],
   "source": [
    "df_test = pd.read_json('data/test.json')\n",
    "df_test.shape\n",
    "type(df_test)\n",
    "df_test.info()"
   ]
  },
  {
   "cell_type": "code",
   "execution_count": null,
   "metadata": {},
   "outputs": [],
   "source": [
    "df_test.head()"
   ]
  },
  {
   "cell_type": "markdown",
   "metadata": {},
   "source": [
    "## Clean test data"
   ]
  },
  {
   "cell_type": "code",
   "execution_count": null,
   "metadata": {},
   "outputs": [],
   "source": [
    "df_test.set_index(\"id\", inplace=True)"
   ]
  },
  {
   "cell_type": "code",
   "execution_count": null,
   "metadata": {
    "scrolled": true
   },
   "outputs": [],
   "source": [
    "df_test.head()"
   ]
  },
  {
   "cell_type": "code",
   "execution_count": null,
   "metadata": {},
   "outputs": [],
   "source": [
    "df_test[\"ingredients\"].head()"
   ]
  },
  {
   "cell_type": "code",
   "execution_count": null,
   "metadata": {},
   "outputs": [],
   "source": [
    "df_test[\"ingredients_clean\"] = df_test[\"ingredients\"].astype(str)\n",
    "df_test[\"ingredients_clean\"] = df_test[\"ingredients_clean\"].str.replace(\" \",\"\")\n",
    "df_test[\"ingredients_clean\"] = df_test[\"ingredients_clean\"].str.replace(\",\",\" \")"
   ]
  },
  {
   "cell_type": "code",
   "execution_count": null,
   "metadata": {
    "scrolled": true
   },
   "outputs": [],
   "source": [
    "df_test[\"ingredients_clean\"].head()"
   ]
  },
  {
   "cell_type": "code",
   "execution_count": null,
   "metadata": {},
   "outputs": [],
   "source": [
    "df_test[\"ingredients_clean\"] = df_test[\"ingredients_clean\"].str.replace(\"salt\",\"\")"
   ]
  },
  {
   "cell_type": "code",
   "execution_count": null,
   "metadata": {},
   "outputs": [],
   "source": [
    "df_test[\"ingredients_clean\"].head()"
   ]
  },
  {
   "cell_type": "markdown",
   "metadata": {},
   "source": [
    "## recode relevant ingredients do dummy vars in test set"
   ]
  },
  {
   "cell_type": "code",
   "execution_count": null,
   "metadata": {},
   "outputs": [],
   "source": [
    "def add_var_test(ingredient_name):\n",
    "    df_test[ingredient_name] = 0\n",
    "    for index, row in df_test.iterrows():\n",
    "        if ingredient_name in row[\"ingredients_clean\"]:\n",
    "            df_test.at[index,ingredient_name] = 1"
   ]
  },
  {
   "cell_type": "code",
   "execution_count": null,
   "metadata": {
    "scrolled": true
   },
   "outputs": [],
   "source": [
    "for each in ingredients_list:\n",
    "    print(each)\n",
    "    add_var_test(each)"
   ]
  },
  {
   "cell_type": "markdown",
   "metadata": {},
   "source": [
    "## perform the final predictions"
   ]
  },
  {
   "cell_type": "code",
   "execution_count": null,
   "metadata": {},
   "outputs": [],
   "source": [
    "df_test[\"cuisine\"] = knn.predict(df_test[feature_names])"
   ]
  },
  {
   "cell_type": "code",
   "execution_count": null,
   "metadata": {},
   "outputs": [],
   "source": [
    "df_test[\"cuisine\"].value_counts()"
   ]
  },
  {
   "cell_type": "markdown",
   "metadata": {},
   "source": [
    "## export predictions to csv"
   ]
  },
  {
   "cell_type": "code",
   "execution_count": null,
   "metadata": {},
   "outputs": [],
   "source": [
    "df_test.info()"
   ]
  },
  {
   "cell_type": "code",
   "execution_count": null,
   "metadata": {},
   "outputs": [],
   "source": [
    "my_df = df_test.reset_index(\"id\")"
   ]
  },
  {
   "cell_type": "code",
   "execution_count": null,
   "metadata": {},
   "outputs": [],
   "source": [
    "my_df = my_df.loc[:,[\"id\",\"cuisine\"]]"
   ]
  },
  {
   "cell_type": "code",
   "execution_count": null,
   "metadata": {},
   "outputs": [],
   "source": [
    "my_df.to_csv('Submission1_SvdBroek.csv', index=False, header=True)"
   ]
  },
  {
   "cell_type": "code",
   "execution_count": null,
   "metadata": {},
   "outputs": [],
   "source": []
  }
 ],
 "metadata": {
  "kernelspec": {
   "display_name": "Python 3",
   "language": "python",
   "name": "python3"
  },
  "language_info": {
   "codemirror_mode": {
    "name": "ipython",
    "version": 3
   },
   "file_extension": ".py",
   "mimetype": "text/x-python",
   "name": "python",
   "nbconvert_exporter": "python",
   "pygments_lexer": "ipython3",
   "version": "3.6.5"
  }
 },
 "nbformat": 4,
 "nbformat_minor": 2
}
