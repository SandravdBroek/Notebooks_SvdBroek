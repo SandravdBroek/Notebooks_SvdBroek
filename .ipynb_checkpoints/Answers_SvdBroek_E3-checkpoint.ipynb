{
 "cells": [
  {
   "cell_type": "markdown",
   "metadata": {},
   "source": []
  },
  {
   "cell_type": "code",
   "execution_count": 1,
   "metadata": {},
   "outputs": [],
   "source": [
    "import pandas as pd\n",
    "import numpy as np\n",
    "import seaborn as sb\n",
    "%matplotlib inline\n",
    "import matplotlib.pyplot as plt"
   ]
  },
  {
   "cell_type": "code",
   "execution_count": 2,
   "metadata": {},
   "outputs": [
    {
     "name": "stdout",
     "output_type": "stream",
     "text": [
      "<class 'pandas.core.frame.DataFrame'>\n",
      "RangeIndex: 31962 entries, 0 to 31961\n",
      "Data columns (total 3 columns):\n",
      "id       31962 non-null int64\n",
      "label    31962 non-null int64\n",
      "tweet    31962 non-null object\n",
      "dtypes: int64(2), object(1)\n",
      "memory usage: 749.2+ KB\n"
     ]
    }
   ],
   "source": [
    "df = pd.read_csv('C:\\\\\\\\Users\\kimte\\\\git\\\\data-analytics-and-science\\\\exercises\\\\exercise 3 - Twitter sentiment analysis\\\\data\\\\train.csv')\n",
    "df.shape\n",
    "type(df)\n",
    "df.info()"
   ]
  },
  {
   "cell_type": "code",
   "execution_count": 4,
   "metadata": {},
   "outputs": [
    {
     "data": {
      "text/html": [
       "<div>\n",
       "<style scoped>\n",
       "    .dataframe tbody tr th:only-of-type {\n",
       "        vertical-align: middle;\n",
       "    }\n",
       "\n",
       "    .dataframe tbody tr th {\n",
       "        vertical-align: top;\n",
       "    }\n",
       "\n",
       "    .dataframe thead th {\n",
       "        text-align: right;\n",
       "    }\n",
       "</style>\n",
       "<table border=\"1\" class=\"dataframe\">\n",
       "  <thead>\n",
       "    <tr style=\"text-align: right;\">\n",
       "      <th></th>\n",
       "      <th>id</th>\n",
       "      <th>label</th>\n",
       "      <th>tweet</th>\n",
       "    </tr>\n",
       "  </thead>\n",
       "  <tbody>\n",
       "    <tr>\n",
       "      <th>0</th>\n",
       "      <td>1</td>\n",
       "      <td>0</td>\n",
       "      <td>@user when a father is dysfunctional and is s...</td>\n",
       "    </tr>\n",
       "    <tr>\n",
       "      <th>1</th>\n",
       "      <td>2</td>\n",
       "      <td>0</td>\n",
       "      <td>@user @user thanks for #lyft credit i can't us...</td>\n",
       "    </tr>\n",
       "    <tr>\n",
       "      <th>2</th>\n",
       "      <td>3</td>\n",
       "      <td>0</td>\n",
       "      <td>bihday your majesty</td>\n",
       "    </tr>\n",
       "    <tr>\n",
       "      <th>3</th>\n",
       "      <td>4</td>\n",
       "      <td>0</td>\n",
       "      <td>#model   i love u take with u all the time in ...</td>\n",
       "    </tr>\n",
       "    <tr>\n",
       "      <th>4</th>\n",
       "      <td>5</td>\n",
       "      <td>0</td>\n",
       "      <td>factsguide: society now    #motivation</td>\n",
       "    </tr>\n",
       "  </tbody>\n",
       "</table>\n",
       "</div>"
      ],
      "text/plain": [
       "   id  label                                              tweet\n",
       "0   1      0   @user when a father is dysfunctional and is s...\n",
       "1   2      0  @user @user thanks for #lyft credit i can't us...\n",
       "2   3      0                                bihday your majesty\n",
       "3   4      0  #model   i love u take with u all the time in ...\n",
       "4   5      0             factsguide: society now    #motivation"
      ]
     },
     "execution_count": 4,
     "metadata": {},
     "output_type": "execute_result"
    }
   ],
   "source": [
    "df.head()"
   ]
  },
  {
   "cell_type": "code",
   "execution_count": 6,
   "metadata": {},
   "outputs": [],
   "source": [
    "df.set_index(\"id\", inplace=True)"
   ]
  },
  {
   "cell_type": "code",
   "execution_count": 7,
   "metadata": {},
   "outputs": [
    {
     "data": {
      "text/html": [
       "<div>\n",
       "<style scoped>\n",
       "    .dataframe tbody tr th:only-of-type {\n",
       "        vertical-align: middle;\n",
       "    }\n",
       "\n",
       "    .dataframe tbody tr th {\n",
       "        vertical-align: top;\n",
       "    }\n",
       "\n",
       "    .dataframe thead th {\n",
       "        text-align: right;\n",
       "    }\n",
       "</style>\n",
       "<table border=\"1\" class=\"dataframe\">\n",
       "  <thead>\n",
       "    <tr style=\"text-align: right;\">\n",
       "      <th></th>\n",
       "      <th>label</th>\n",
       "      <th>tweet</th>\n",
       "    </tr>\n",
       "    <tr>\n",
       "      <th>id</th>\n",
       "      <th></th>\n",
       "      <th></th>\n",
       "    </tr>\n",
       "  </thead>\n",
       "  <tbody>\n",
       "    <tr>\n",
       "      <th>1</th>\n",
       "      <td>0</td>\n",
       "      <td>@user when a father is dysfunctional and is s...</td>\n",
       "    </tr>\n",
       "    <tr>\n",
       "      <th>2</th>\n",
       "      <td>0</td>\n",
       "      <td>@user @user thanks for #lyft credit i can't us...</td>\n",
       "    </tr>\n",
       "    <tr>\n",
       "      <th>3</th>\n",
       "      <td>0</td>\n",
       "      <td>bihday your majesty</td>\n",
       "    </tr>\n",
       "    <tr>\n",
       "      <th>4</th>\n",
       "      <td>0</td>\n",
       "      <td>#model   i love u take with u all the time in ...</td>\n",
       "    </tr>\n",
       "    <tr>\n",
       "      <th>5</th>\n",
       "      <td>0</td>\n",
       "      <td>factsguide: society now    #motivation</td>\n",
       "    </tr>\n",
       "  </tbody>\n",
       "</table>\n",
       "</div>"
      ],
      "text/plain": [
       "    label                                              tweet\n",
       "id                                                          \n",
       "1       0   @user when a father is dysfunctional and is s...\n",
       "2       0  @user @user thanks for #lyft credit i can't us...\n",
       "3       0                                bihday your majesty\n",
       "4       0  #model   i love u take with u all the time in ...\n",
       "5       0             factsguide: society now    #motivation"
      ]
     },
     "execution_count": 7,
     "metadata": {},
     "output_type": "execute_result"
    }
   ],
   "source": [
    "df.head()"
   ]
  },
  {
   "cell_type": "code",
   "execution_count": 8,
   "metadata": {},
   "outputs": [
    {
     "data": {
      "text/plain": [
       "0    29720\n",
       "1     2242\n",
       "Name: label, dtype: int64"
      ]
     },
     "execution_count": 8,
     "metadata": {},
     "output_type": "execute_result"
    }
   ],
   "source": [
    "df[\"label\"].value_counts()"
   ]
  },
  {
   "cell_type": "markdown",
   "metadata": {},
   "source": [
    "### Cleaning: https://towardsdatascience.com/another-twitter-sentiment-analysis-bb5b01ebad90 of https://github.com/tthustla/twitter_sentiment_analysis_part1/blob/master/Capstone_part2.ipynb"
   ]
  },
  {
   "cell_type": "code",
   "execution_count": 13,
   "metadata": {},
   "outputs": [],
   "source": [
    "df['pre_clean_len'] = [len(t) for t in df[\"tweet\"]]"
   ]
  },
  {
   "cell_type": "code",
   "execution_count": 15,
   "metadata": {},
   "outputs": [
    {
     "data": {
      "text/plain": [
       "count    31962.000000\n",
       "mean        84.739628\n",
       "std         29.455749\n",
       "min         11.000000\n",
       "25%         63.000000\n",
       "50%         88.000000\n",
       "75%        108.000000\n",
       "max        274.000000\n",
       "Name: pre_clean_len, dtype: float64"
      ]
     },
     "execution_count": 15,
     "metadata": {},
     "output_type": "execute_result"
    },
    {
     "data": {
      "image/png": "[encoded data removed]",
      "text/plain": [
       "<Figure size 432x288 with 1 Axes>"
      ]
     },
     "metadata": {},
     "output_type": "display_data"
    }
   ],
   "source": [
    "ax = df['pre_clean_len'].plot.box()\n",
    "df['pre_clean_len'].describe()"
   ]
  },
  {
   "cell_type": "code",
   "execution_count": 16,
   "metadata": {},
   "outputs": [
    {
     "data": {
      "text/html": [
       "<div>\n",
       "<style scoped>\n",
       "    .dataframe tbody tr th:only-of-type {\n",
       "        vertical-align: middle;\n",
       "    }\n",
       "\n",
       "    .dataframe tbody tr th {\n",
       "        vertical-align: top;\n",
       "    }\n",
       "\n",
       "    .dataframe thead th {\n",
       "        text-align: right;\n",
       "    }\n",
       "</style>\n",
       "<table border=\"1\" class=\"dataframe\">\n",
       "  <thead>\n",
       "    <tr style=\"text-align: right;\">\n",
       "      <th></th>\n",
       "      <th>label</th>\n",
       "      <th>tweet</th>\n",
       "      <th>pre_clean_len</th>\n",
       "    </tr>\n",
       "    <tr>\n",
       "      <th>id</th>\n",
       "      <th></th>\n",
       "      <th></th>\n",
       "      <th></th>\n",
       "    </tr>\n",
       "  </thead>\n",
       "  <tbody>\n",
       "    <tr>\n",
       "      <th>8</th>\n",
       "      <td>0</td>\n",
       "      <td>the next school year is the year for exams.ð...</td>\n",
       "      <td>143</td>\n",
       "    </tr>\n",
       "    <tr>\n",
       "      <th>336</th>\n",
       "      <td>0</td>\n",
       "      <td>watching the @user leadership embrace &amp;amp; ki...</td>\n",
       "      <td>146</td>\n",
       "    </tr>\n",
       "    <tr>\n",
       "      <th>434</th>\n",
       "      <td>0</td>\n",
       "      <td>@user * sweets ð°ð©ð¬ð­ð«â¨!!!!!! ...</td>\n",
       "      <td>145</td>\n",
       "    </tr>\n",
       "    <tr>\n",
       "      <th>475</th>\n",
       "      <td>0</td>\n",
       "      <td>this is a shockingly   and increasingly #viole...</td>\n",
       "      <td>141</td>\n",
       "    </tr>\n",
       "    <tr>\n",
       "      <th>566</th>\n",
       "      <td>0</td>\n",
       "      <td>thank youðsoo muchð pretty @user i feel ...</td>\n",
       "      <td>142</td>\n",
       "    </tr>\n",
       "    <tr>\n",
       "      <th>621</th>\n",
       "      <td>0</td>\n",
       "      <td>@user back to @user after a v traumatic few m...</td>\n",
       "      <td>141</td>\n",
       "    </tr>\n",
       "    <tr>\n",
       "      <th>774</th>\n",
       "      <td>0</td>\n",
       "      <td>ðð»#pretending#to#be #when #you're#in#pai...</td>\n",
       "      <td>151</td>\n",
       "    </tr>\n",
       "    <tr>\n",
       "      <th>775</th>\n",
       "      <td>0</td>\n",
       "      <td>@user @user @user @user @user   evening my de...</td>\n",
       "      <td>147</td>\n",
       "    </tr>\n",
       "    <tr>\n",
       "      <th>1101</th>\n",
       "      <td>0</td>\n",
       "      <td>2nite was sad bc i ordered fries @ denny's &amp;am...</td>\n",
       "      <td>141</td>\n",
       "    </tr>\n",
       "    <tr>\n",
       "      <th>1143</th>\n",
       "      <td>0</td>\n",
       "      <td>sick verbal irony of the #left:  equaling homo...</td>\n",
       "      <td>144</td>\n",
       "    </tr>\n",
       "  </tbody>\n",
       "</table>\n",
       "</div>"
      ],
      "text/plain": [
       "      label                                              tweet  pre_clean_len\n",
       "id                                                                           \n",
       "8         0  the next school year is the year for exams.ð...            143\n",
       "336       0  watching the @user leadership embrace &amp; ki...            146\n",
       "434       0   @user * sweets ð°ð©ð¬ð­ð«â¨!!!!!! ...            145\n",
       "475       0  this is a shockingly   and increasingly #viole...            141\n",
       "566       0  thank youðsoo muchð pretty @user i feel ...            142\n",
       "621       0   @user back to @user after a v traumatic few m...            141\n",
       "774       0  ðð»#pretending#to#be #when #you're#in#pai...            151\n",
       "775       0   @user @user @user @user @user   evening my de...            147\n",
       "1101      0  2nite was sad bc i ordered fries @ denny's &am...            141\n",
       "1143      0  sick verbal irony of the #left:  equaling homo...            144"
      ]
     },
     "execution_count": 16,
     "metadata": {},
     "output_type": "execute_result"
    }
   ],
   "source": [
    "df[df.pre_clean_len > 140].head(10)"
   ]
  },
  {
   "cell_type": "code",
   "execution_count": 17,
   "metadata": {},
   "outputs": [
    {
     "data": {
      "text/plain": [
       "\"the next school year is the year for exams.ð\\x9f\\x98¯ can't think about that ð\\x9f\\x98\\xad #school #exams   #hate #imagine #actorslife #revolutionschool #girl\""
      ]
     },
     "execution_count": 17,
     "metadata": {},
     "output_type": "execute_result"
    }
   ],
   "source": [
    "df.loc[8,\"tweet\"]"
   ]
  },
  {
   "cell_type": "code",
   "execution_count": 22,
   "metadata": {},
   "outputs": [
    {
     "name": "stdout",
     "output_type": "stream",
     "text": [
      "the next school year is the year for exams.ð¯ can't think about that ð­ #school #exams   #hate #imagine #actorslife #revolutionschool #girl\n"
     ]
    }
   ],
   "source": [
    "from bs4 import BeautifulSoup\n",
    "example1 = BeautifulSoup(df.loc[8,\"tweet\"], 'lxml')\n",
    "print(example1.get_text())"
   ]
  },
  {
   "cell_type": "code",
   "execution_count": 28,
   "metadata": {},
   "outputs": [],
   "source": [
    "from bs4 import BeautifulSoup\n",
    "x = BeautifulSoup(df[\"tweet\"].any(), 'lxml')"
   ]
  },
  {
   "cell_type": "code",
   "execution_count": 29,
   "metadata": {},
   "outputs": [
    {
     "data": {
      "text/plain": [
       "<html><body><p>@user when a father is dysfunctional and is so selfish he drags his kids into his dysfunction.   #run</p></body></html>"
      ]
     },
     "execution_count": 29,
     "metadata": {},
     "output_type": "execute_result"
    }
   ],
   "source": [
    "x"
   ]
  },
  {
   "cell_type": "code",
   "execution_count": 31,
   "metadata": {
    "collapsed": true
   },
   "outputs": [
    {
     "data": {
      "text/plain": [
       "['when a father is dysfunctional and is so selfish he drags his kids into his dysfunction run',\n",
       " 'thanks for lyft credit i can t use cause they don t offer wheelchair vans in pdx disapointed getthanked',\n",
       " 'bihday your majesty',\n",
       " 'model i love u take with u all the time in ur',\n",
       " 'factsguide society now motivation',\n",
       " 'huge fan fare and big talking before they leave chaos and pay disputes when they get there allshowandnogo',\n",
       " 'camping tomorrow danny',\n",
       " 'the next school year is the year for exams can t think about that school exams hate imagine actorslife revolutionschool girl',\n",
       " 'we won love the land allin cavs champions cleveland clevelandcavaliers',\n",
       " 'welcome here i m it s so gr',\n",
       " 'ireland consumer price index mom climbed from previous to in may blog silver gold forex',\n",
       " 'we are so selfish orlando standwithorlando pulseshooting orlandoshooting biggerproblems selfish heabreaking values love',\n",
       " 'i get to see my daddy today days gettingfed',\n",
       " 'cnn calls michigan middle school build the wall chant tcot',\n",
       " 'no comment in australia opkillingbay seashepherd helpcovedolphins thecove helpcovedolphins',\n",
       " 'ouch junior is angry got junior yugyoem omg',\n",
       " 'i am thankful for having a paner thankful positive',\n",
       " 'retweet if you agree',\n",
       " 'its friday smiles all around via ig user cookies make people',\n",
       " 'as we all know essential oils are not made of chemicals',\n",
       " 'euro people blaming ha for conceded goal was it fat rooney who gave away free kick knowing bale can hit them from there',\n",
       " 'sad little dude badday coneofshame cats pissed funny laughs',\n",
       " 'product of the day happy man wine tool who s it s the weekend time to open up drink up',\n",
       " 'lumpy says i am a prove it lumpy',\n",
       " 'tgif ff to my gamedev indiedev indiegamedev squad',\n",
       " 'beautiful sign by vendor for upsideofflorida shopalyssas love',\n",
       " 'all smiles when media is pressconference in antalya turkey sunday throwback love',\n",
       " 'we had a great panel on the mediatization of the public service ica',\n",
       " 'happy father s day',\n",
       " 'people went to nightclub to have a good night and man s actions means those people are lost to their families forever rip orlando',\n",
       " 'i have never had a chance to vote for a presidential candidate i was excited about and this cycle looks to be no different',\n",
       " 'alohafriday time does not exist positivevibes hawaiian',\n",
       " 'rip to the fellow nohern ireland fan who sadley passed away tonight gawa forever singing and cheering on fire',\n",
       " 'it was a hard monday due to cloudy weather disabling oxygen production for today goodnight badmonday',\n",
       " 'it s unbelievable that in the st century we d need something like this again neverump xenophobia',\n",
       " 'taylorswift bull up you will dominate your bull and you will direct it whatever you want it to do w',\n",
       " 'morning travelingram dalat ripinkylife',\n",
       " 'once more only one word tells it all photoshop enoughisenough dontphotoshopeverything wheresallthenaturalphotos',\n",
       " 'oh cedarpoint waited hours in the valravn line and it stopped working we were so close',\n",
       " 'i am thankful for sunshine thankful positive',\n",
       " 'when you finally finish a book you ve been working on for awhile bookworm ontothenextnovel',\n",
       " 'yup being a knicks fan is hard so its easier to just be an nba fan when the playoffs roll around',\n",
       " 'there is life after social networking embrace each day be',\n",
       " 'my mom shares the same bihday as bihday snake see you this weekend',\n",
       " 'lovely echeveria blooms flowers grow gardening iphonesia bliss blooms basilicabotanica',\n",
       " 'i am amazing i am positive affirmation',\n",
       " 'model i love u take with u all the time in ur',\n",
       " 'whenever im and something goes wrong',\n",
       " 'feeling blue illustration',\n",
       " 'the best pa about life is knowing who you are',\n",
       " 'abc getting ready remove the victums frm pulseclub prayfororlando',\n",
       " 'for her bihday we got her a nose job bihday petunia we love you',\n",
       " 'off to concelebrate at the albanpilgrimage for the first time',\n",
       " 'let the scum baggery begin',\n",
       " 'thank you super love it zpamdelacruz wedding dolores capas tarlac',\n",
       " 'a scourge on those playing baroque pieces on piano beyond belief',\n",
       " 'lets fight against love peace',\n",
       " 'happy father s day mr rayos video fathers day rayos world hotvideo videos',\n",
       " 'ascot times with this babe ascot fashion monochrome style instahappyday',\n",
       " 'the weekend is here selfie yolo xoxo like like',\n",
       " 'happy at work conference right mindset leads to culture of development organizations work mindset',\n",
       " 'christina grimmie s last performance before being shot via christinarip voice christinagrimmie',\n",
       " 'we are ready to dance roar preschoolers students proud',\n",
       " 'you ve really hu my feelings',\n",
       " 'my wife whom i adore had to miss your poland show because she had surgery her name is bridget she s my everything',\n",
       " 'i am so jealous of you right now chatiado',\n",
       " 'i celebrate every man that has played it s fatherly role father s day',\n",
       " 'i m sure they are just as happy hour',\n",
       " 'the white establishment can t have blk folx running around loving themselves and promoting our greatness',\n",
       " 'good morning the journey begins travel yeah thejourneybegins hello',\n",
       " 'if you luv hottweets like this from venusexchange',\n",
       " 'our new brochures have arrived how exciting aworks solutions',\n",
       " 'so much stuff happening in florida first orlando shooting and now disneygatorattack on a two year old kid',\n",
       " 'ferrari will do it for the sake of the championship this gp is clearly a turning point rb ferrari mercs',\n",
       " 'aced my first test proud',\n",
       " 'seeks probe into udtapunjab leak points finger at amarinder aap',\n",
       " 'wrapping up senseaboutmaths th',\n",
       " 'hey white people you can call people white by race identity med',\n",
       " 'you might be just have not shown here today regurgitated talking points and name calling',\n",
       " 'sometimes you have to raise a few brows to raise the bar golfstrengthandconditioning strong felixfoisgolf',\n",
       " 'about that greathonour careerconvos',\n",
       " 'designing innovative learning space to include wateringhole cave mountaintop campfire h',\n",
       " 'how the altright uses insecurity to lure men into whitesupremacy',\n",
       " 'carrying a gun wouldn t of helped if you can t take it in with you gun control won t stop the black market terrorism will get worse',\n",
       " 'use the power of your mind to heal your body altwaystoheal healthy peace',\n",
       " 'woohoo just over weeks to go',\n",
       " 'being in a far away place where you have no family members hus',\n",
       " 'ready to rehearse tonight with new music and new videos look out for the announcement midweek newmusic watchthisspace guitar',\n",
       " 'now on monday nights at pm on up channel i finally get to see what all the fuss is about',\n",
       " 'watching the new episodes of on',\n",
       " 'offline now after a very nice and long night snapchat redhead vermillionred',\n",
       " 'things incredibly people do',\n",
       " 'yes received my acceptance letter for my masters so will be back at again in october goodtimes history',\n",
       " 'daughter riding her bike around driveway son playing his guitar for us while we enjoy by the campfire summeime memories',\n",
       " 'omg loving this station way to jam out at work while getting work done of course memories',\n",
       " 'i ll always hope that one day i ll get to hug you but i don t think that it s gonna happen anytime soon',\n",
       " 'model i love u take with u all the time in ur',\n",
       " 'couple having sex fat naked japanese girls',\n",
       " 'hump on that hump day humpers edwardsville pennsylvania',\n",
       " 'personalised we gbp get here shop cool home fun']"
      ]
     },
     "execution_count": 31,
     "metadata": {},
     "output_type": "execute_result"
    }
   ],
   "source": [
    "from bs4 import BeautifulSoup\n",
    "import re\n",
    "from nltk.tokenize import WordPunctTokenizer\n",
    "tok = WordPunctTokenizer()\n",
    "pat1 = r'@[A-Za-z0-9]+'\n",
    "pat2 = r'https?://[A-Za-z0-9./]+'\n",
    "combined_pat = r'|'.join((pat1, pat2))\n",
    "\n",
    "def tweet_cleaner(text):\n",
    "    soup = BeautifulSoup(text, 'lxml')\n",
    "    souped = soup.get_text()\n",
    "    stripped = re.sub(combined_pat, '', souped)\n",
    "    try:\n",
    "        clean = stripped.decode(\"utf-8-sig\").replace(u\"\\ufffd\", \"?\")\n",
    "    except:\n",
    "        clean = stripped\n",
    "    letters_only = re.sub(\"[^a-zA-Z]\", \" \", clean)\n",
    "    lower_case = letters_only.lower()\n",
    "    # During the letters_only process two lines above, it has created unnecessay white spaces,\n",
    "    # I will tokenize and join together to remove unneccessary white spaces\n",
    "    words = tok.tokenize(lower_case)\n",
    "    return (\" \".join(words)).strip()\n",
    "\n",
    "testing = df[\"tweet\"][:100]\n",
    "\n",
    "test_result = []\n",
    "for t in testing:\n",
    "    test_result.append(tweet_cleaner(t))\n",
    "test_result"
   ]
  },
  {
   "cell_type": "code",
   "execution_count": 43,
   "metadata": {},
   "outputs": [],
   "source": [
    "running = df[\"tweet\"][:]\n",
    "\n",
    "running_result = []\n",
    "for t in running:\n",
    "    running_result.append(tweet_cleaner(t))\n",
    "df[\"tweet_clean\"] = running_result"
   ]
  },
  {
   "cell_type": "code",
   "execution_count": 44,
   "metadata": {},
   "outputs": [
    {
     "data": {
      "text/html": [
       "<div>\n",
       "<style scoped>\n",
       "    .dataframe tbody tr th:only-of-type {\n",
       "        vertical-align: middle;\n",
       "    }\n",
       "\n",
       "    .dataframe tbody tr th {\n",
       "        vertical-align: top;\n",
       "    }\n",
       "\n",
       "    .dataframe thead th {\n",
       "        text-align: right;\n",
       "    }\n",
       "</style>\n",
       "<table border=\"1\" class=\"dataframe\">\n",
       "  <thead>\n",
       "    <tr style=\"text-align: right;\">\n",
       "      <th></th>\n",
       "      <th>label</th>\n",
       "      <th>tweet</th>\n",
       "      <th>pre_clean_len</th>\n",
       "      <th>tweet_clean</th>\n",
       "    </tr>\n",
       "    <tr>\n",
       "      <th>id</th>\n",
       "      <th></th>\n",
       "      <th></th>\n",
       "      <th></th>\n",
       "      <th></th>\n",
       "    </tr>\n",
       "  </thead>\n",
       "  <tbody>\n",
       "    <tr>\n",
       "      <th>1</th>\n",
       "      <td>0</td>\n",
       "      <td>@user when a father is dysfunctional and is s...</td>\n",
       "      <td>102</td>\n",
       "      <td>when a father is dysfunctional and is so selfi...</td>\n",
       "    </tr>\n",
       "    <tr>\n",
       "      <th>2</th>\n",
       "      <td>0</td>\n",
       "      <td>@user @user thanks for #lyft credit i can't us...</td>\n",
       "      <td>122</td>\n",
       "      <td>thanks for lyft credit i can t use cause they ...</td>\n",
       "    </tr>\n",
       "    <tr>\n",
       "      <th>3</th>\n",
       "      <td>0</td>\n",
       "      <td>bihday your majesty</td>\n",
       "      <td>21</td>\n",
       "      <td>bihday your majesty</td>\n",
       "    </tr>\n",
       "    <tr>\n",
       "      <th>4</th>\n",
       "      <td>0</td>\n",
       "      <td>#model   i love u take with u all the time in ...</td>\n",
       "      <td>86</td>\n",
       "      <td>model i love u take with u all the time in ur</td>\n",
       "    </tr>\n",
       "    <tr>\n",
       "      <th>5</th>\n",
       "      <td>0</td>\n",
       "      <td>factsguide: society now    #motivation</td>\n",
       "      <td>39</td>\n",
       "      <td>factsguide society now motivation</td>\n",
       "    </tr>\n",
       "  </tbody>\n",
       "</table>\n",
       "</div>"
      ],
      "text/plain": [
       "    label                                              tweet  pre_clean_len  \\\n",
       "id                                                                            \n",
       "1       0   @user when a father is dysfunctional and is s...            102   \n",
       "2       0  @user @user thanks for #lyft credit i can't us...            122   \n",
       "3       0                                bihday your majesty             21   \n",
       "4       0  #model   i love u take with u all the time in ...             86   \n",
       "5       0             factsguide: society now    #motivation             39   \n",
       "\n",
       "                                          tweet_clean  \n",
       "id                                                     \n",
       "1   when a father is dysfunctional and is so selfi...  \n",
       "2   thanks for lyft credit i can t use cause they ...  \n",
       "3                                 bihday your majesty  \n",
       "4       model i love u take with u all the time in ur  \n",
       "5                   factsguide society now motivation  "
      ]
     },
     "execution_count": 44,
     "metadata": {},
     "output_type": "execute_result"
    }
   ],
   "source": [
    "df.head()"
   ]
  },
  {
   "cell_type": "markdown",
   "metadata": {},
   "source": []
  }
 ],
 "metadata": {
  "kernelspec": {
   "display_name": "Python 3",
   "language": "python",
   "name": "python3"
  },
  "language_info": {
   "codemirror_mode": {
    "name": "ipython",
    "version": 3
   },
   "file_extension": ".py",
   "mimetype": "text/x-python",
   "name": "python",
   "nbconvert_exporter": "python",
   "pygments_lexer": "ipython3",
   "version": "3.6.5"
  }
 },
 "nbformat": 4,
 "nbformat_minor": 2
}
